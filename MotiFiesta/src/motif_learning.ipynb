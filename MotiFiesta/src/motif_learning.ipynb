{
 "cells": [
  {
   "cell_type": "code",
   "execution_count": 23,
   "id": "740c33af-3493-412f-bc9f-227bd90b9e7f",
   "metadata": {
    "execution": {
     "iopub.execute_input": "2023-02-28T07:30:29.777037Z",
     "iopub.status.busy": "2023-02-28T07:30:29.776575Z",
     "iopub.status.idle": "2023-02-28T07:30:29.781171Z",
     "shell.execute_reply": "2023-02-28T07:30:29.780542Z",
     "shell.execute_reply.started": "2023-02-28T07:30:29.777007Z"
    },
    "tags": []
   },
   "outputs": [],
   "source": [
    "import copy\n",
    "from collections import defaultdict\n",
    "import itertools\n",
    "import json\n",
    "import os\n",
    "import os.path as osp\n",
    "\n",
    "import networkx as nx\n",
    "import numpy as np\n",
    "from random import randrange\n",
    "from tqdm import tqdm"
   ]
  },
  {
   "cell_type": "markdown",
   "id": "b3941385-fc63-43b8-af4a-8632429f7e14",
   "metadata": {},
   "source": [
    "### load and check dataset"
   ]
  },
  {
   "cell_type": "code",
   "execution_count": 24,
   "id": "e6b84680-3835-4598-8484-b11b31919720",
   "metadata": {
    "ExecutionIndicator": {
     "show": true
    },
    "execution": {
     "iopub.execute_input": "2023-02-28T07:30:31.897384Z",
     "iopub.status.busy": "2023-02-28T07:30:31.896578Z",
     "iopub.status.idle": "2023-02-28T07:30:31.900917Z",
     "shell.execute_reply": "2023-02-28T07:30:31.900303Z",
     "shell.execute_reply.started": "2023-02-28T07:30:31.897353Z"
    },
    "tags": []
   },
   "outputs": [],
   "source": [
    "import sys\n",
    "import os\n",
    "sys.path.append(str('/mnt/workspace/graph_pretrain/MotiFiesta'))\n",
    "os.chdir('/mnt/workspace/graph_pretrain/MotiFiesta')\n",
    "from src.loading_nb import get_loader"
   ]
  },
  {
   "cell_type": "code",
   "execution_count": 25,
   "id": "8ee42621-a39f-4965-a57e-ef386bf35cfe",
   "metadata": {
    "ExecutionIndicator": {
     "show": true
    },
    "execution": {
     "iopub.execute_input": "2023-02-28T07:30:34.591202Z",
     "iopub.status.busy": "2023-02-28T07:30:34.590430Z",
     "iopub.status.idle": "2023-02-28T07:30:34.594276Z",
     "shell.execute_reply": "2023-02-28T07:30:34.593691Z",
     "shell.execute_reply.started": "2023-02-28T07:30:34.591173Z"
    },
    "tags": []
   },
   "outputs": [],
   "source": [
    "import torch\n",
    "from torch_geometric.datasets import TUDataset\n",
    "from torch_geometric.utils import degree"
   ]
  },
  {
   "cell_type": "markdown",
   "id": "5c42c595-a413-444a-a959-eb7daa1cb7fd",
   "metadata": {
    "ExecutionIndicator": {
     "show": false
    },
    "execution": {
     "iopub.execute_input": "2023-02-28T07:30:54.181299Z",
     "iopub.status.busy": "2023-02-28T07:30:54.180549Z",
     "iopub.status.idle": "2023-02-28T07:30:54.184348Z",
     "shell.execute_reply": "2023-02-28T07:30:54.183675Z",
     "shell.execute_reply.started": "2023-02-28T07:30:54.181268Z"
    },
    "tags": []
   },
   "source": [
    "#### ZINC"
   ]
  },
  {
   "cell_type": "code",
   "execution_count": 27,
   "id": "9606ff30-e543-4e98-ae73-526b1ccd1e36",
   "metadata": {
    "execution": {
     "iopub.execute_input": "2023-02-28T07:31:30.565864Z",
     "iopub.status.busy": "2023-02-28T07:31:30.565064Z",
     "iopub.status.idle": "2023-02-28T07:31:30.569193Z",
     "shell.execute_reply": "2023-02-28T07:31:30.568568Z",
     "shell.execute_reply.started": "2023-02-28T07:31:30.565834Z"
    }
   },
   "outputs": [],
   "source": [
    "from torch_geometric.datasets import ZINC"
   ]
  },
  {
   "cell_type": "code",
   "execution_count": 28,
   "id": "dfd67b32-303c-4b61-8d6e-96f61b353c4d",
   "metadata": {
    "execution": {
     "iopub.execute_input": "2023-02-28T07:31:41.932825Z",
     "iopub.status.busy": "2023-02-28T07:31:41.932034Z",
     "iopub.status.idle": "2023-02-28T07:31:41.937087Z",
     "shell.execute_reply": "2023-02-28T07:31:41.936436Z",
     "shell.execute_reply.started": "2023-02-28T07:31:41.932793Z"
    }
   },
   "outputs": [
    {
     "data": {
      "text/plain": [
       "'/mnt/workspace/graph_pretrain/MotiFiesta'"
      ]
     },
     "execution_count": 28,
     "metadata": {},
     "output_type": "execute_result"
    }
   ],
   "source": [
    "os.getcwd()"
   ]
  },
  {
   "cell_type": "code",
   "execution_count": 31,
   "id": "6d4f60ed-024a-4f25-bdfb-f4a405c6fdab",
   "metadata": {
    "ExecutionIndicator": {
     "show": true
    },
    "execution": {
     "iopub.execute_input": "2023-02-28T07:59:52.234080Z",
     "iopub.status.busy": "2023-02-28T07:59:52.233342Z",
     "iopub.status.idle": "2023-02-28T08:00:57.368072Z",
     "shell.execute_reply": "2023-02-28T08:00:57.367294Z",
     "shell.execute_reply.started": "2023-02-28T07:59:52.234049Z"
    },
    "tags": []
   },
   "outputs": [
    {
     "name": "stderr",
     "output_type": "stream",
     "text": [
      "Processing...\n",
      "Processing train dataset: 100%|██████████| 220011/220011 [00:16<00:00, 13108.74it/s]\n",
      "Processing val dataset: 100%|██████████| 24445/24445 [00:02<00:00, 8176.96it/s] \n",
      "Processing test dataset: 100%|██████████| 5000/5000 [00:00<00:00, 9218.44it/s] \n",
      "Done!\n"
     ]
    }
   ],
   "source": [
    "zinc = ZINC(root='./data/ZINC')"
   ]
  },
  {
   "cell_type": "code",
   "execution_count": 32,
   "id": "7ff88bd5-c6af-4935-b3f2-781b33aa437b",
   "metadata": {
    "ExecutionIndicator": {
     "show": false
    },
    "execution": {
     "iopub.execute_input": "2023-02-28T08:09:50.917179Z",
     "iopub.status.busy": "2023-02-28T08:09:50.916391Z",
     "iopub.status.idle": "2023-02-28T08:09:50.922131Z",
     "shell.execute_reply": "2023-02-28T08:09:50.921572Z",
     "shell.execute_reply.started": "2023-02-28T08:09:50.917149Z"
    },
    "tags": []
   },
   "outputs": [
    {
     "data": {
      "text/plain": [
       "'/mnt/workspace/graph_pretrain/MotiFiesta/src'"
      ]
     },
     "execution_count": 32,
     "metadata": {},
     "output_type": "execute_result"
    }
   ],
   "source": [
    "os.chdir('./src')\n",
    "os.getcwd()"
   ]
  },
  {
   "cell_type": "code",
   "execution_count": 12,
   "id": "082fa07a-d4f0-478a-a87d-190bd5296604",
   "metadata": {
    "ExecutionIndicator": {
     "show": true
    },
    "execution": {
     "iopub.execute_input": "2023-02-27T12:39:13.827546Z",
     "iopub.status.busy": "2023-02-27T12:39:13.826994Z",
     "iopub.status.idle": "2023-02-27T12:39:14.455231Z",
     "shell.execute_reply": "2023-02-27T12:39:14.454536Z",
     "shell.execute_reply.started": "2023-02-27T12:39:13.827517Z"
    },
    "tags": []
   },
   "outputs": [
    {
     "name": "stdout",
     "output_type": "stream",
     "text": [
      "NAME  MUTAG\n"
     ]
    }
   ],
   "source": [
    "# mutag = get_loader(name=\"MUTAG\")\n",
    "dataset_name = \"MUTAG\"\n",
    "dataset = list(map(lambda x: x['pos'], \n",
    "        get_loader(name=dataset_name).get('dataset_whole',[])))"
   ]
  },
  {
   "cell_type": "code",
   "execution_count": 14,
   "id": "522c118c-ad52-44bb-b92e-13e59b437e6f",
   "metadata": {
    "ExecutionIndicator": {
     "show": true
    },
    "execution": {
     "iopub.execute_input": "2023-02-27T12:39:26.164894Z",
     "iopub.status.busy": "2023-02-27T12:39:26.164111Z",
     "iopub.status.idle": "2023-02-27T12:39:26.168783Z",
     "shell.execute_reply": "2023-02-27T12:39:26.168154Z",
     "shell.execute_reply.started": "2023-02-27T12:39:26.164863Z"
    },
    "tags": []
   },
   "outputs": [],
   "source": [
    "labels = list(map(lambda i: dataset[i].y, range(len(dataset))))"
   ]
  },
  {
   "cell_type": "code",
   "execution_count": 21,
   "id": "c42320a0-8289-4ae6-9ff0-0efee14758b4",
   "metadata": {
    "ExecutionIndicator": {
     "show": true
    },
    "execution": {
     "iopub.execute_input": "2023-02-27T12:40:47.531235Z",
     "iopub.status.busy": "2023-02-27T12:40:47.530782Z",
     "iopub.status.idle": "2023-02-27T12:40:47.535785Z",
     "shell.execute_reply": "2023-02-27T12:40:47.535149Z",
     "shell.execute_reply.started": "2023-02-27T12:40:47.531206Z"
    },
    "tags": []
   },
   "outputs": [
    {
     "data": {
      "text/plain": [
       "1"
      ]
     },
     "execution_count": 21,
     "metadata": {},
     "output_type": "execute_result"
    }
   ],
   "source": [
    "# type(int(labels[0].numpy()))\n",
    "int(labels[0].numpy())"
   ]
  },
  {
   "cell_type": "code",
   "execution_count": null,
   "id": "4648d54f-a014-41b6-ba7d-87fdadfd4db5",
   "metadata": {
    "ExecutionIndicator": {
     "show": true
    },
    "tags": []
   },
   "outputs": [],
   "source": [
    "collab = get_loader(name=\"COLLAB\")\n",
    "# collab = TUDataset(root='./data',name='COLLAB')\n",
    "# imdb = TUDataset(root='./supervised_data/TUDataset',name='IMDB-BINARY')"
   ]
  },
  {
   "cell_type": "code",
   "execution_count": 9,
   "id": "d363efc2-ff37-49b1-acab-fd0306531405",
   "metadata": {
    "ExecutionIndicator": {
     "show": true
    },
    "execution": {
     "iopub.execute_input": "2023-02-27T07:48:51.618172Z",
     "iopub.status.busy": "2023-02-27T07:48:51.617712Z",
     "iopub.status.idle": "2023-02-27T07:48:51.621405Z",
     "shell.execute_reply": "2023-02-27T07:48:51.620784Z",
     "shell.execute_reply.started": "2023-02-27T07:48:51.618144Z"
    },
    "tags": []
   },
   "outputs": [],
   "source": [
    "# collab = get_loader(name=\"COLLAB\")"
   ]
  },
  {
   "cell_type": "code",
   "execution_count": 13,
   "id": "91c43d4e-3139-4235-a298-e3824ded03e1",
   "metadata": {
    "ExecutionIndicator": {
     "show": true
    },
    "execution": {
     "iopub.execute_input": "2023-02-27T07:50:51.558143Z",
     "iopub.status.busy": "2023-02-27T07:50:51.557496Z",
     "iopub.status.idle": "2023-02-27T07:50:51.584625Z",
     "shell.execute_reply": "2023-02-27T07:50:51.584039Z",
     "shell.execute_reply.started": "2023-02-27T07:50:51.558114Z"
    },
    "tags": []
   },
   "outputs": [],
   "source": [
    "num_nodes_imdb, num_edges_imdb = [], []\n",
    "\n",
    "for graph in imdb:\n",
    "    num_nodes_imdb.append(graph.num_nodes)\n",
    "    num_edges_imdb.append(graph.num_edges)"
   ]
  },
  {
   "cell_type": "code",
   "execution_count": 14,
   "id": "f8e8ef6d-d091-406a-a154-c891ab1a1150",
   "metadata": {
    "ExecutionIndicator": {
     "show": true
    },
    "execution": {
     "iopub.execute_input": "2023-02-27T07:51:00.010985Z",
     "iopub.status.busy": "2023-02-27T07:51:00.010511Z",
     "iopub.status.idle": "2023-02-27T07:51:00.015532Z",
     "shell.execute_reply": "2023-02-27T07:51:00.014929Z",
     "shell.execute_reply.started": "2023-02-27T07:51:00.010956Z"
    },
    "tags": []
   },
   "outputs": [
    {
     "data": {
      "text/plain": [
       "2498"
      ]
     },
     "execution_count": 14,
     "metadata": {},
     "output_type": "execute_result"
    }
   ],
   "source": [
    "max(num_nodes_imdb)\n",
    "max(num_edges_imdb)"
   ]
  },
  {
   "cell_type": "code",
   "execution_count": 21,
   "id": "74d11cea-e874-4ffd-a007-acabf78b1d9c",
   "metadata": {
    "ExecutionIndicator": {
     "show": true
    },
    "execution": {
     "iopub.execute_input": "2023-02-27T07:58:27.967390Z",
     "iopub.status.busy": "2023-02-27T07:58:27.966758Z",
     "iopub.status.idle": "2023-02-27T07:58:28.528043Z",
     "shell.execute_reply": "2023-02-27T07:58:28.527334Z",
     "shell.execute_reply.started": "2023-02-27T07:58:27.967362Z"
    },
    "tags": []
   },
   "outputs": [],
   "source": [
    "max_degree = 0\n",
    "degs = []\n",
    "for data in collab:\n",
    "    degs += [degree(data.edge_index[0], dtype=torch.long)]\n",
    "    max_degree = max(max_degree, degs[-1].max().item())"
   ]
  },
  {
   "cell_type": "code",
   "execution_count": 22,
   "id": "3f02394b-78f2-4450-a2d6-a61010e930e5",
   "metadata": {
    "execution": {
     "iopub.execute_input": "2023-02-27T07:58:29.853284Z",
     "iopub.status.busy": "2023-02-27T07:58:29.852826Z",
     "iopub.status.idle": "2023-02-27T07:58:29.857743Z",
     "shell.execute_reply": "2023-02-27T07:58:29.857133Z",
     "shell.execute_reply.started": "2023-02-27T07:58:29.853257Z"
    },
    "tags": []
   },
   "outputs": [
    {
     "data": {
      "text/plain": [
       "491"
      ]
     },
     "execution_count": 22,
     "metadata": {},
     "output_type": "execute_result"
    }
   ],
   "source": [
    "max_degree"
   ]
  },
  {
   "cell_type": "code",
   "execution_count": 22,
   "id": "31f572a3-9734-453e-be24-bcb401055604",
   "metadata": {
    "ExecutionIndicator": {
     "show": true
    },
    "execution": {
     "iopub.execute_input": "2023-02-28T07:29:56.515332Z",
     "iopub.status.busy": "2023-02-28T07:29:56.514578Z",
     "iopub.status.idle": "2023-02-28T07:29:56.669954Z",
     "shell.execute_reply": "2023-02-28T07:29:56.669194Z",
     "shell.execute_reply.started": "2023-02-28T07:29:56.515303Z"
    },
    "tags": []
   },
   "outputs": [
    {
     "ename": "NameError",
     "evalue": "name 'imdb' is not defined",
     "output_type": "error",
     "traceback": [
      "\u001b[0;31m---------------------------------------------------------------------------\u001b[0m",
      "\u001b[0;31mNameError\u001b[0m                                 Traceback (most recent call last)",
      "\u001b[0;32m/tmp/ipykernel_1122/2984715199.py\u001b[0m in \u001b[0;36m<module>\u001b[0;34m\u001b[0m\n\u001b[0;32m----> 1\u001b[0;31m \u001b[0mimdb\u001b[0m\u001b[0;34m[\u001b[0m\u001b[0;36m0\u001b[0m\u001b[0;34m]\u001b[0m\u001b[0;34m.\u001b[0m\u001b[0mx\u001b[0m \u001b[0;34m==\u001b[0m \u001b[0;32mNone\u001b[0m\u001b[0;34m\u001b[0m\u001b[0;34m\u001b[0m\u001b[0m\n\u001b[0m",
      "\u001b[0;31mNameError\u001b[0m: name 'imdb' is not defined"
     ]
    }
   ],
   "source": [
    "imdb[0].x == None"
   ]
  },
  {
   "cell_type": "code",
   "execution_count": null,
   "id": "0ce91e4a-449f-4966-b73c-6321fdd7ed5e",
   "metadata": {},
   "outputs": [],
   "source": []
  }
 ],
 "metadata": {
  "kernelspec": {
   "display_name": "MotiFiesta",
   "language": "python",
   "name": "motifiesta"
  },
  "language_info": {
   "codemirror_mode": {
    "name": "ipython",
    "version": 3
   },
   "file_extension": ".py",
   "mimetype": "text/x-python",
   "name": "python",
   "nbconvert_exporter": "python",
   "pygments_lexer": "ipython3",
   "version": "3.7.15"
  }
 },
 "nbformat": 4,
 "nbformat_minor": 5
}
